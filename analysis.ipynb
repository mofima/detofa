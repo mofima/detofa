{
 "cells": [
  {
   "cell_type": "code",
   "execution_count": 1,
   "id": "532ef280",
   "metadata": {},
   "outputs": [],
   "source": [
    "import os\n",
    "import pandas as pd\n",
    "from bs4 import BeautifulSoup\n",
    "import seaborn as sns\n",
    "import matplotlib.pyplot as plt\n",
    "%matplotlib inline\n",
    "sns.set_theme(style='darkgrid')"
   ]
  },
  {
   "cell_type": "code",
   "execution_count": 2,
   "id": "a2dfac1f",
   "metadata": {},
   "outputs": [],
   "source": [
    "df_list = []\n",
    "folder = 'firmin'\n",
    "\n",
    "for product_html in os.listdir(folder):\n",
    "    with open(os.path.join(folder, product_html)) as file:\n",
    "        soup = BeautifulSoup(file, 'lxml')\n",
    "        all_divs = soup.find_all('div', class_='product-detail')  \n",
    "        for val in all_divs:\n",
    "            category = val.find('p', class_='cat').contents[0].split(':')[-1]\n",
    "            name = val.find('a', class_='product-name').contents[0]\n",
    "            price = val.find_all('strong')[1]\n",
    "            price = price.contents[0].split(':')[1].replace('$','').replace(',','').strip()\n",
    "          \n",
    "            df_list.append({'name':name,\n",
    "                   'category':category,\n",
    "                   'price':int(price)})\n",
    "df = pd.DataFrame(df_list, columns=['name','category','price'])    "
   ]
  },
  {
   "cell_type": "code",
   "execution_count": 3,
   "id": "7cda4542",
   "metadata": {},
   "outputs": [
    {
     "data": {
      "text/html": [
       "<div>\n",
       "<style scoped>\n",
       "    .dataframe tbody tr th:only-of-type {\n",
       "        vertical-align: middle;\n",
       "    }\n",
       "\n",
       "    .dataframe tbody tr th {\n",
       "        vertical-align: top;\n",
       "    }\n",
       "\n",
       "    .dataframe thead th {\n",
       "        text-align: right;\n",
       "    }\n",
       "</style>\n",
       "<table border=\"1\" class=\"dataframe\">\n",
       "  <thead>\n",
       "    <tr style=\"text-align: right;\">\n",
       "      <th></th>\n",
       "      <th>name</th>\n",
       "      <th>category</th>\n",
       "      <th>price</th>\n",
       "    </tr>\n",
       "  </thead>\n",
       "  <tbody>\n",
       "    <tr>\n",
       "      <th>0</th>\n",
       "      <td>Poisson burec</td>\n",
       "      <td>Aliments / Cuits</td>\n",
       "      <td>900</td>\n",
       "    </tr>\n",
       "    <tr>\n",
       "      <th>1</th>\n",
       "      <td>Gracia cake group 0.5 kg</td>\n",
       "      <td>Aliments / Cuits</td>\n",
       "      <td>1200</td>\n",
       "    </tr>\n",
       "    <tr>\n",
       "      <th>2</th>\n",
       "      <td>Sac Ã  main femme 1 pc 25cm</td>\n",
       "      <td>Fashion femmes</td>\n",
       "      <td>1800</td>\n",
       "    </tr>\n",
       "    <tr>\n",
       "      <th>3</th>\n",
       "      <td>Pantalon jean dame</td>\n",
       "      <td>Fashion femmes</td>\n",
       "      <td>1200</td>\n",
       "    </tr>\n",
       "    <tr>\n",
       "      <th>4</th>\n",
       "      <td>Sac Ã  main femme Lv 1 pc 32cm</td>\n",
       "      <td>Fashion femmes</td>\n",
       "      <td>2500</td>\n",
       "    </tr>\n",
       "    <tr>\n",
       "      <th>5</th>\n",
       "      <td>Sac Ã  main femme Lv 1 pc 32cm 2</td>\n",
       "      <td>Fashion femmes</td>\n",
       "      <td>2500</td>\n",
       "    </tr>\n",
       "    <tr>\n",
       "      <th>6</th>\n",
       "      <td>Sac Ã  main pour femme LV 1 pc 22 cm</td>\n",
       "      <td>Fashion femmes</td>\n",
       "      <td>1700</td>\n",
       "    </tr>\n",
       "    <tr>\n",
       "      <th>7</th>\n",
       "      <td>jupe salopette</td>\n",
       "      <td>Fashion femmes</td>\n",
       "      <td>1500</td>\n",
       "    </tr>\n",
       "    <tr>\n",
       "      <th>8</th>\n",
       "      <td>Sac Ã  main femme 1 pc 22cm</td>\n",
       "      <td>Fashion femmes</td>\n",
       "      <td>2000</td>\n",
       "    </tr>\n",
       "    <tr>\n",
       "      <th>9</th>\n",
       "      <td>pantalon femme patte d'Ã©lÃ©phant</td>\n",
       "      <td>Fashion femmes</td>\n",
       "      <td>1300</td>\n",
       "    </tr>\n",
       "    <tr>\n",
       "      <th>10</th>\n",
       "      <td>Ceinture pour homme Goldenlion</td>\n",
       "      <td>Fashion hommes</td>\n",
       "      <td>600</td>\n",
       "    </tr>\n",
       "    <tr>\n",
       "      <th>11</th>\n",
       "      <td>Chemise multicolore pour homme 6</td>\n",
       "      <td>Fashion hommes</td>\n",
       "      <td>1300</td>\n",
       "    </tr>\n",
       "    <tr>\n",
       "      <th>12</th>\n",
       "      <td>Sous-vÃªtements pour hommes  3 piÃ¨ces</td>\n",
       "      <td>Fashion hommes</td>\n",
       "      <td>650</td>\n",
       "    </tr>\n",
       "    <tr>\n",
       "      <th>13</th>\n",
       "      <td>Chemise multicolore pour homme 1</td>\n",
       "      <td>Fashion hommes</td>\n",
       "      <td>1300</td>\n",
       "    </tr>\n",
       "    <tr>\n",
       "      <th>14</th>\n",
       "      <td>Chemise lin homme</td>\n",
       "      <td>Fashion hommes</td>\n",
       "      <td>900</td>\n",
       "    </tr>\n",
       "    <tr>\n",
       "      <th>15</th>\n",
       "      <td>Chemise multicolore pour homme 3</td>\n",
       "      <td>Fashion hommes</td>\n",
       "      <td>1300</td>\n",
       "    </tr>\n",
       "    <tr>\n",
       "      <th>16</th>\n",
       "      <td>Chemise multicolore pour homme 4</td>\n",
       "      <td>Fashion hommes</td>\n",
       "      <td>1300</td>\n",
       "    </tr>\n",
       "    <tr>\n",
       "      <th>17</th>\n",
       "      <td>Chemise homme marque Next</td>\n",
       "      <td>Fashion hommes</td>\n",
       "      <td>1000</td>\n",
       "    </tr>\n",
       "    <tr>\n",
       "      <th>18</th>\n",
       "      <td>logone riz nouira</td>\n",
       "      <td>Aliments / Non cuits</td>\n",
       "      <td>2400</td>\n",
       "    </tr>\n",
       "    <tr>\n",
       "      <th>19</th>\n",
       "      <td>Azam wheat flour</td>\n",
       "      <td>Aliments / Non cuits</td>\n",
       "      <td>3000</td>\n",
       "    </tr>\n",
       "    <tr>\n",
       "      <th>20</th>\n",
       "      <td>Semoule dâ€™Afrik 25 kg</td>\n",
       "      <td>Aliments / Non cuits</td>\n",
       "      <td>1800</td>\n",
       "    </tr>\n",
       "    <tr>\n",
       "      <th>21</th>\n",
       "      <td>iPhone 6s  64GB</td>\n",
       "      <td>TÃ©lÃ©phone</td>\n",
       "      <td>16000</td>\n",
       "    </tr>\n",
       "    <tr>\n",
       "      <th>22</th>\n",
       "      <td>iPhone 7 32GB</td>\n",
       "      <td>TÃ©lÃ©phone</td>\n",
       "      <td>22000</td>\n",
       "    </tr>\n",
       "    <tr>\n",
       "      <th>23</th>\n",
       "      <td>iPhone XS max 256GB</td>\n",
       "      <td>TÃ©lÃ©phone</td>\n",
       "      <td>65000</td>\n",
       "    </tr>\n",
       "    <tr>\n",
       "      <th>24</th>\n",
       "      <td>iPhone 6s plus  64GB</td>\n",
       "      <td>TÃ©lÃ©phone</td>\n",
       "      <td>22000</td>\n",
       "    </tr>\n",
       "    <tr>\n",
       "      <th>25</th>\n",
       "      <td>iPhone 7 plus 128GB</td>\n",
       "      <td>TÃ©lÃ©phone</td>\n",
       "      <td>35000</td>\n",
       "    </tr>\n",
       "    <tr>\n",
       "      <th>26</th>\n",
       "      <td>iPhone 11 max 64GB</td>\n",
       "      <td>TÃ©lÃ©phone</td>\n",
       "      <td>87000</td>\n",
       "    </tr>\n",
       "    <tr>\n",
       "      <th>27</th>\n",
       "      <td>iPhone X 64GB</td>\n",
       "      <td>TÃ©lÃ©phone</td>\n",
       "      <td>50000</td>\n",
       "    </tr>\n",
       "    <tr>\n",
       "      <th>28</th>\n",
       "      <td>iPhone 11 64GB</td>\n",
       "      <td>TÃ©lÃ©phone</td>\n",
       "      <td>58000</td>\n",
       "    </tr>\n",
       "  </tbody>\n",
       "</table>\n",
       "</div>"
      ],
      "text/plain": [
       "                                      name               category  price\n",
       "0                            Poisson burec       Aliments / Cuits    900\n",
       "1                 Gracia cake group 0.5 kg       Aliments / Cuits   1200\n",
       "2              Sac Ã  main femme 1 pc 25cm         Fashion femmes   1800\n",
       "3                       Pantalon jean dame         Fashion femmes   1200\n",
       "4           Sac Ã  main femme Lv 1 pc 32cm         Fashion femmes   2500\n",
       "5         Sac Ã  main femme Lv 1 pc 32cm 2         Fashion femmes   2500\n",
       "6     Sac Ã  main pour femme LV 1 pc 22 cm         Fashion femmes   1700\n",
       "7                           jupe salopette         Fashion femmes   1500\n",
       "8              Sac Ã  main femme 1 pc 22cm         Fashion femmes   2000\n",
       "9        pantalon femme patte d'Ã©lÃ©phant         Fashion femmes   1300\n",
       "10          Ceinture pour homme Goldenlion         Fashion hommes    600\n",
       "11        Chemise multicolore pour homme 6         Fashion hommes   1300\n",
       "12  Sous-vÃªtements pour hommes  3 piÃ¨ces         Fashion hommes    650\n",
       "13        Chemise multicolore pour homme 1         Fashion hommes   1300\n",
       "14                       Chemise lin homme         Fashion hommes    900\n",
       "15        Chemise multicolore pour homme 3         Fashion hommes   1300\n",
       "16        Chemise multicolore pour homme 4         Fashion hommes   1300\n",
       "17               Chemise homme marque Next         Fashion hommes   1000\n",
       "18                       logone riz nouira   Aliments / Non cuits   2400\n",
       "19                        Azam wheat flour   Aliments / Non cuits   3000\n",
       "20                 Semoule dâ€™Afrik 25 kg   Aliments / Non cuits   1800\n",
       "21                         iPhone 6s  64GB            TÃ©lÃ©phone  16000\n",
       "22                           iPhone 7 32GB            TÃ©lÃ©phone  22000\n",
       "23                     iPhone XS max 256GB            TÃ©lÃ©phone  65000\n",
       "24                    iPhone 6s plus  64GB            TÃ©lÃ©phone  22000\n",
       "25                     iPhone 7 plus 128GB            TÃ©lÃ©phone  35000\n",
       "26                      iPhone 11 max 64GB            TÃ©lÃ©phone  87000\n",
       "27                           iPhone X 64GB            TÃ©lÃ©phone  50000\n",
       "28                          iPhone 11 64GB            TÃ©lÃ©phone  58000"
      ]
     },
     "execution_count": 3,
     "metadata": {},
     "output_type": "execute_result"
    }
   ],
   "source": [
    "df"
   ]
  },
  {
   "cell_type": "code",
   "execution_count": 4,
   "id": "42a69a5b",
   "metadata": {},
   "outputs": [
    {
     "data": {
      "text/html": [
       "<div>\n",
       "<style scoped>\n",
       "    .dataframe tbody tr th:only-of-type {\n",
       "        vertical-align: middle;\n",
       "    }\n",
       "\n",
       "    .dataframe tbody tr th {\n",
       "        vertical-align: top;\n",
       "    }\n",
       "\n",
       "    .dataframe thead th {\n",
       "        text-align: right;\n",
       "    }\n",
       "</style>\n",
       "<table border=\"1\" class=\"dataframe\">\n",
       "  <thead>\n",
       "    <tr style=\"text-align: right;\">\n",
       "      <th></th>\n",
       "      <th>name</th>\n",
       "      <th>category</th>\n",
       "      <th>price</th>\n",
       "    </tr>\n",
       "  </thead>\n",
       "  <tbody>\n",
       "    <tr>\n",
       "      <th>0</th>\n",
       "      <td>Poisson burec</td>\n",
       "      <td>Aliments / Cuits</td>\n",
       "      <td>900</td>\n",
       "    </tr>\n",
       "    <tr>\n",
       "      <th>1</th>\n",
       "      <td>Gracia cake group 0.5 kg</td>\n",
       "      <td>Aliments / Cuits</td>\n",
       "      <td>1200</td>\n",
       "    </tr>\n",
       "    <tr>\n",
       "      <th>2</th>\n",
       "      <td>Sac Ã  main femme 1 pc 25cm</td>\n",
       "      <td>Fashion femmes</td>\n",
       "      <td>1800</td>\n",
       "    </tr>\n",
       "    <tr>\n",
       "      <th>3</th>\n",
       "      <td>Pantalon jean dame</td>\n",
       "      <td>Fashion femmes</td>\n",
       "      <td>1200</td>\n",
       "    </tr>\n",
       "    <tr>\n",
       "      <th>4</th>\n",
       "      <td>Sac Ã  main femme Lv 1 pc 32cm</td>\n",
       "      <td>Fashion femmes</td>\n",
       "      <td>2500</td>\n",
       "    </tr>\n",
       "  </tbody>\n",
       "</table>\n",
       "</div>"
      ],
      "text/plain": [
       "                             name           category  price\n",
       "0                   Poisson burec   Aliments / Cuits    900\n",
       "1        Gracia cake group 0.5 kg   Aliments / Cuits   1200\n",
       "2     Sac Ã  main femme 1 pc 25cm     Fashion femmes   1800\n",
       "3              Pantalon jean dame     Fashion femmes   1200\n",
       "4  Sac Ã  main femme Lv 1 pc 32cm     Fashion femmes   2500"
      ]
     },
     "execution_count": 4,
     "metadata": {},
     "output_type": "execute_result"
    }
   ],
   "source": [
    "df.head()"
   ]
  },
  {
   "cell_type": "code",
   "execution_count": 5,
   "id": "876953b7",
   "metadata": {},
   "outputs": [
    {
     "name": "stdout",
     "output_type": "stream",
     "text": [
      "<class 'pandas.core.frame.DataFrame'>\n",
      "RangeIndex: 29 entries, 0 to 28\n",
      "Data columns (total 3 columns):\n",
      " #   Column    Non-Null Count  Dtype \n",
      "---  ------    --------------  ----- \n",
      " 0   name      29 non-null     object\n",
      " 1   category  29 non-null     object\n",
      " 2   price     29 non-null     int64 \n",
      "dtypes: int64(1), object(2)\n",
      "memory usage: 824.0+ bytes\n"
     ]
    }
   ],
   "source": [
    "df.info()"
   ]
  },
  {
   "cell_type": "code",
   "execution_count": 6,
   "id": "e88905f3",
   "metadata": {},
   "outputs": [
    {
     "data": {
      "text/plain": [
       "name        29\n",
       "category     5\n",
       "price       20\n",
       "dtype: int64"
      ]
     },
     "execution_count": 6,
     "metadata": {},
     "output_type": "execute_result"
    }
   ],
   "source": [
    "# Number of unique vals per column\n",
    "df.nunique()"
   ]
  },
  {
   "cell_type": "code",
   "execution_count": 7,
   "id": "3eb93e51",
   "metadata": {},
   "outputs": [
    {
     "data": {
      "text/plain": [
       "count       29.00000\n",
       "mean     13350.00000\n",
       "std      23142.53968\n",
       "min        600.00000\n",
       "25%       1300.00000\n",
       "50%       1800.00000\n",
       "75%      16000.00000\n",
       "max      87000.00000\n",
       "Name: price, dtype: float64"
      ]
     },
     "execution_count": 7,
     "metadata": {},
     "output_type": "execute_result"
    }
   ],
   "source": [
    "# descriptive stats of the price col\n",
    "df['price'].describe()"
   ]
  },
  {
   "cell_type": "code",
   "execution_count": 8,
   "id": "c91f35df",
   "metadata": {},
   "outputs": [
    {
     "data": {
      "text/html": [
       "<div>\n",
       "<style scoped>\n",
       "    .dataframe tbody tr th:only-of-type {\n",
       "        vertical-align: middle;\n",
       "    }\n",
       "\n",
       "    .dataframe tbody tr th {\n",
       "        vertical-align: top;\n",
       "    }\n",
       "\n",
       "    .dataframe thead th {\n",
       "        text-align: right;\n",
       "    }\n",
       "</style>\n",
       "<table border=\"1\" class=\"dataframe\">\n",
       "  <thead>\n",
       "    <tr style=\"text-align: right;\">\n",
       "      <th></th>\n",
       "      <th>name</th>\n",
       "      <th>category</th>\n",
       "      <th>price</th>\n",
       "    </tr>\n",
       "  </thead>\n",
       "  <tbody>\n",
       "    <tr>\n",
       "      <th>0</th>\n",
       "      <td>Poisson burec</td>\n",
       "      <td>Aliments / Cuits</td>\n",
       "      <td>900</td>\n",
       "    </tr>\n",
       "    <tr>\n",
       "      <th>1</th>\n",
       "      <td>Gracia cake group 0.5 kg</td>\n",
       "      <td>Aliments / Cuits</td>\n",
       "      <td>1200</td>\n",
       "    </tr>\n",
       "    <tr>\n",
       "      <th>2</th>\n",
       "      <td>Sac Ã  main femme 1 pc 25cm</td>\n",
       "      <td>Fashion femmes</td>\n",
       "      <td>1800</td>\n",
       "    </tr>\n",
       "    <tr>\n",
       "      <th>3</th>\n",
       "      <td>Pantalon jean dame</td>\n",
       "      <td>Fashion femmes</td>\n",
       "      <td>1200</td>\n",
       "    </tr>\n",
       "    <tr>\n",
       "      <th>4</th>\n",
       "      <td>Sac Ã  main femme Lv 1 pc 32cm</td>\n",
       "      <td>Fashion femmes</td>\n",
       "      <td>2500</td>\n",
       "    </tr>\n",
       "  </tbody>\n",
       "</table>\n",
       "</div>"
      ],
      "text/plain": [
       "                             name           category  price\n",
       "0                   Poisson burec   Aliments / Cuits    900\n",
       "1        Gracia cake group 0.5 kg   Aliments / Cuits   1200\n",
       "2     Sac Ã  main femme 1 pc 25cm     Fashion femmes   1800\n",
       "3              Pantalon jean dame     Fashion femmes   1200\n",
       "4  Sac Ã  main femme Lv 1 pc 32cm     Fashion femmes   2500"
      ]
     },
     "execution_count": 8,
     "metadata": {},
     "output_type": "execute_result"
    }
   ],
   "source": [
    "df.head()"
   ]
  },
  {
   "cell_type": "markdown",
   "id": "3f55403f",
   "metadata": {},
   "source": [
    "#### on average what is the mean price per category of product"
   ]
  },
  {
   "cell_type": "code",
   "execution_count": 9,
   "id": "28676742",
   "metadata": {},
   "outputs": [
    {
     "data": {
      "text/html": [
       "<div>\n",
       "<style scoped>\n",
       "    .dataframe tbody tr th:only-of-type {\n",
       "        vertical-align: middle;\n",
       "    }\n",
       "\n",
       "    .dataframe tbody tr th {\n",
       "        vertical-align: top;\n",
       "    }\n",
       "\n",
       "    .dataframe thead th {\n",
       "        text-align: right;\n",
       "    }\n",
       "</style>\n",
       "<table border=\"1\" class=\"dataframe\">\n",
       "  <thead>\n",
       "    <tr style=\"text-align: right;\">\n",
       "      <th></th>\n",
       "      <th>price</th>\n",
       "    </tr>\n",
       "    <tr>\n",
       "      <th>category</th>\n",
       "      <th></th>\n",
       "    </tr>\n",
       "  </thead>\n",
       "  <tbody>\n",
       "    <tr>\n",
       "      <th>Aliments / Cuits</th>\n",
       "      <td>1050.00</td>\n",
       "    </tr>\n",
       "    <tr>\n",
       "      <th>Aliments / Non cuits</th>\n",
       "      <td>2400.00</td>\n",
       "    </tr>\n",
       "    <tr>\n",
       "      <th>Fashion femmes</th>\n",
       "      <td>1812.50</td>\n",
       "    </tr>\n",
       "    <tr>\n",
       "      <th>Fashion hommes</th>\n",
       "      <td>1043.75</td>\n",
       "    </tr>\n",
       "    <tr>\n",
       "      <th>TÃ©lÃ©phone</th>\n",
       "      <td>44375.00</td>\n",
       "    </tr>\n",
       "  </tbody>\n",
       "</table>\n",
       "</div>"
      ],
      "text/plain": [
       "                          price\n",
       "category                       \n",
       " Aliments / Cuits       1050.00\n",
       " Aliments / Non cuits   2400.00\n",
       " Fashion femmes         1812.50\n",
       " Fashion hommes         1043.75\n",
       " TÃ©lÃ©phone           44375.00"
      ]
     },
     "execution_count": 9,
     "metadata": {},
     "output_type": "execute_result"
    }
   ],
   "source": [
    "avg_price = df.groupby('category').mean()\n",
    "avg_price"
   ]
  },
  {
   "cell_type": "code",
   "execution_count": 10,
   "id": "ff3861d2",
   "metadata": {},
   "outputs": [
    {
     "data": {
      "image/png": "[encoded data removed]",
      "text/plain": [
       "<Figure size 432x288 with 1 Axes>"
      ]
     },
     "metadata": {},
     "output_type": "display_data"
    }
   ],
   "source": [
    "df['price'].plot(kind='hist')\n",
    "plt.title('price distribution')\n",
    "plt.xlabel('price');"
   ]
  },
  {
   "cell_type": "code",
   "execution_count": 11,
   "id": "eeb9f89f",
   "metadata": {},
   "outputs": [
    {
     "data": {
      "text/plain": [
       "name        iPhone 11 max 64GB\n",
       "category           TÃ©lÃ©phone\n",
       "price                    87000\n",
       "Name: 26, dtype: object"
      ]
     },
     "execution_count": 11,
     "metadata": {},
     "output_type": "execute_result"
    }
   ],
   "source": [
    "# filtering to get the max price.\n",
    "df.iloc[df['price'].idxmax()]"
   ]
  },
  {
   "cell_type": "code",
   "execution_count": 12,
   "id": "3630d9f2",
   "metadata": {},
   "outputs": [
    {
     "data": {
      "text/plain": [
       "name        Ceinture pour homme Goldenlion\n",
       "category                    Fashion hommes\n",
       "price                                  600\n",
       "Name: 10, dtype: object"
      ]
     },
     "execution_count": 12,
     "metadata": {},
     "output_type": "execute_result"
    }
   ],
   "source": [
    "df.iloc[df['price'].idxmin()]"
   ]
  },
  {
   "cell_type": "markdown",
   "id": "8cbeb373",
   "metadata": {},
   "source": [
    "- On average, phones cost the most as compared to other product categories.\n",
    "- On average, the cooked foods are the products that cost the least amount.\n",
    "- The most expensive product is the iPhone 11 max 64GB, costing 87000.\n",
    "- The cheapest product is the Ceinture pour homme Goldenlion costing 600."
   ]
  },
  {
   "cell_type": "markdown",
   "id": "a7f848d6",
   "metadata": {},
   "source": [
    "#### How are the products distributed per category"
   ]
  },
  {
   "cell_type": "code",
   "execution_count": 13,
   "id": "8a866356",
   "metadata": {},
   "outputs": [
    {
     "data": {
      "text/plain": [
       "category\n",
       " Aliments / Cuits        2\n",
       " Aliments / Non cuits    3\n",
       " Fashion femmes          8\n",
       " Fashion hommes          8\n",
       " TÃ©lÃ©phone             8\n",
       "Name: name, dtype: int64"
      ]
     },
     "execution_count": 13,
     "metadata": {},
     "output_type": "execute_result"
    }
   ],
   "source": [
    "df.groupby('category').count()['name']"
   ]
  },
  {
   "cell_type": "code",
   "execution_count": 14,
   "id": "db498e17",
   "metadata": {},
   "outputs": [
    {
     "data": {
      "image/png": "[encoded data removed]",
      "text/plain": [
       "<Figure size 1080x360 with 2 Axes>"
      ]
     },
     "metadata": {},
     "output_type": "display_data"
    }
   ],
   "source": [
    "plt.figure(figsize=(15,5))\n",
    "plt.subplot(1,2,1)\n",
    "sns.countplot(y='category',data=df, palette='flare')\n",
    "plt.title('product distribution per category')\n",
    "plt.subplot(1,2,2)\n",
    "df['category'].value_counts().plot(kind='pie')\n",
    "plt.title('product distribution per category');"
   ]
  },
  {
   "cell_type": "markdown",
   "id": "5b54e12e",
   "metadata": {},
   "source": [
    "- As shown above, its the phones and fashion categories that have the highest amount of products (8).\n",
    "- The cooked food categories has the lowest(whyy nigga,, are these foods even fresh by now :)"
   ]
  },
  {
   "cell_type": "code",
   "execution_count": null,
   "id": "1b2c6a86",
   "metadata": {},
   "outputs": [],
   "source": []
  }
 ],
 "metadata": {
  "kernelspec": {
   "display_name": "Python 3 (ipykernel)",
   "language": "python",
   "name": "python3"
  },
  "language_info": {
   "codemirror_mode": {
    "name": "ipython",
    "version": 3
   },
   "file_extension": ".py",
   "mimetype": "text/x-python",
   "name": "python",
   "nbconvert_exporter": "python",
   "pygments_lexer": "ipython3",
   "version": "3.9.12"
  }
 },
 "nbformat": 4,
 "nbformat_minor": 5
}
