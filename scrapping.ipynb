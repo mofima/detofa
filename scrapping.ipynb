{
 "cells": [
  {
   "cell_type": "code",
   "execution_count": 1,
   "id": "c633f4f2",
   "metadata": {},
   "outputs": [],
   "source": [
    "import requests\n",
    "import os"
   ]
  },
  {
   "cell_type": "code",
   "execution_count": 2,
   "id": "f5e446dd",
   "metadata": {},
   "outputs": [],
   "source": [
    "urls = ['https://detofaentreprise.com/categories/Cuits/',\n",
    "        'https://detofaentreprise.com/categories/noncuits/',\n",
    "        'https://detofaentreprise.com/categories/Fashion_pour_femmes/',\n",
    "        'https://detofaentreprise.com/categories/Fashion_pour_hommes/',\n",
    "        'https://detofaentreprise.com/categories/telephone/']\n"
   ]
  },
  {
   "cell_type": "code",
   "execution_count": 8,
   "id": "736f8d4e",
   "metadata": {},
   "outputs": [],
   "source": [
    "# url = 'https://detofaentreprise.com/categories/Cuits/'\n",
    "# response = requests.get(url)\n"
   ]
  },
  {
   "cell_type": "code",
   "execution_count": 3,
   "id": "e84ef32e",
   "metadata": {},
   "outputs": [],
   "source": [
    "folder = 'firmin'\n",
    "if not os.path.exists(folder):\n",
    "    os.makedirs(folder)"
   ]
  },
  {
   "cell_type": "code",
   "execution_count": 6,
   "id": "b69487d4",
   "metadata": {},
   "outputs": [],
   "source": [
    "for url in urls:\n",
    "    response = requests.get(url)\n",
    "    with open(os.path.join(folder, url.split('/')[-2]), mode='wb') as file:\n",
    "        file.write(response.content)"
   ]
  },
  {
   "cell_type": "code",
   "execution_count": 7,
   "id": "2d73e2ec",
   "metadata": {},
   "outputs": [
    {
     "data": {
      "text/plain": [
       "['Cuits',\n",
       " 'Fashion_pour_femmes',\n",
       " 'Fashion_pour_hommes',\n",
       " 'noncuits',\n",
       " 'telephone']"
      ]
     },
     "execution_count": 7,
     "metadata": {},
     "output_type": "execute_result"
    }
   ],
   "source": [
    "os.listdir(folder)"
   ]
  },
  {
   "cell_type": "code",
   "execution_count": null,
   "id": "8db2642c",
   "metadata": {},
   "outputs": [],
   "source": []
  },
  {
   "cell_type": "code",
   "execution_count": null,
   "id": "3718c04e",
   "metadata": {},
   "outputs": [],
   "source": []
  },
  {
   "cell_type": "code",
   "execution_count": null,
   "id": "82001db5",
   "metadata": {},
   "outputs": [],
   "source": []
  },
  {
   "cell_type": "code",
   "execution_count": null,
   "id": "c24946e9",
   "metadata": {},
   "outputs": [],
   "source": []
  }
 ],
 "metadata": {
  "kernelspec": {
   "display_name": "Python 3 (ipykernel)",
   "language": "python",
   "name": "python3"
  },
  "language_info": {
   "codemirror_mode": {
    "name": "ipython",
    "version": 3
   },
   "file_extension": ".py",
   "mimetype": "text/x-python",
   "name": "python",
   "nbconvert_exporter": "python",
   "pygments_lexer": "ipython3",
   "version": "3.9.12"
  }
 },
 "nbformat": 4,
 "nbformat_minor": 5
}
